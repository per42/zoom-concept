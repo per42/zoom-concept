{
 "cells": [
  {
   "cell_type": "code",
   "execution_count": 123,
   "metadata": {},
   "outputs": [],
   "source": [
    "%%capture\n",
    "%pip install ipython pandas matplotlib ipywidgets pillow"
   ]
  },
  {
   "cell_type": "code",
   "execution_count": 124,
   "metadata": {},
   "outputs": [],
   "source": [
    "from io import BytesIO\n",
    "import math as m\n",
    "\n",
    "import pandas as pd\n",
    "import numpy as np\n",
    "import ipywidgets as widgets\n",
    "from PIL import Image\n",
    "\n",
    "pd.options.display.precision = 2"
   ]
  },
  {
   "cell_type": "code",
   "execution_count": 125,
   "metadata": {
    "tags": [
     "parameters"
    ]
   },
   "outputs": [],
   "source": [
    "STEP_FACTOR = 2 ** (1 / 2)\n",
    "MIN_ZOOM = 0.8\n",
    "IMAGE_PATH = \"sigrid_rollo.jpg\"\n",
    "ZOOM_STEPS = [1, 2, 4, 6, 8]"
   ]
  },
  {
   "cell_type": "markdown",
   "metadata": {},
   "source": [
    "Calculate the zoom for a given step:\n",
    "* zoom: $z$\n",
    "* step: $s$\n",
    "* STEP_FACTOR: $f$\n",
    "\n",
    "$$\n",
    "  z = f ^ s\n",
    "$$\n",
    "$$\n",
    "  \\ln{z} = s \\ln{f}\n",
    "$$\n",
    "$$\n",
    "  s = \\frac{\\ln{z}}{\\ln{f}}\n",
    "$$"
   ]
  },
  {
   "cell_type": "code",
   "execution_count": 126,
   "metadata": {},
   "outputs": [
    {
     "data": {
      "text/plain": [
       "-0.64    0.80\n",
       " 0.00    1.00\n",
       " 1.00    1.41\n",
       " 2.00    2.00\n",
       " 3.00    2.83\n",
       " 4.00    4.00\n",
       " 5.00    5.66\n",
       " 6.00    8.00\n",
       "dtype: float64"
      ]
     },
     "execution_count": 126,
     "metadata": {},
     "output_type": "execute_result"
    },
    {
     "data": {
      "image/png": "[encoded data removed]",
      "text/plain": [
       "<Figure size 640x480 with 1 Axes>"
      ]
     },
     "metadata": {},
     "output_type": "display_data"
    }
   ],
   "source": [
    "min_zoom_step = m.log(MIN_ZOOM) / m.log(STEP_FACTOR)\n",
    "\n",
    "extra_zoom_steps = [m.log(zoom) / m.log(STEP_FACTOR) for zoom in ZOOM_STEPS]\n",
    "\n",
    "steps = pd.Series(\n",
    "    STEP_FACTOR ** (index := np.array([min_zoom_step] + list(range(7)))),\n",
    "    index,\n",
    ")\n",
    "\n",
    "steps_man = pd.Series(\n",
    "    STEP_FACTOR ** (index := np.array([min_zoom_step] + extra_zoom_steps)),\n",
    "    index,\n",
    ")\n",
    "\n",
    "cont = pd.Series(\n",
    "    STEP_FACTOR ** (index := np.linspace(steps.index[0], steps.index[-1], 100)), index\n",
    ")\n",
    "\n",
    "ax = steps.plot(\n",
    "    style=\"ro\",\n",
    "    xticks=steps.index,\n",
    "    yticks=steps.values,\n",
    "    ylabel=\"zoom\",\n",
    "    xlabel=\"step\",\n",
    "    # logy=True,\n",
    ")\n",
    "steps_man.plot(style=\"b+\", ax=ax)\n",
    "cont.plot(style=\"k.\", ax=ax)\n",
    "steps"
   ]
  },
  {
   "cell_type": "code",
   "execution_count": 127,
   "metadata": {},
   "outputs": [
    {
     "data": {
      "application/vnd.jupyter.widget-view+json": {
       "model_id": "6cb7b5df430e487eba6be14199d17996",
       "version_major": 2,
       "version_minor": 0
      },
      "text/plain": [
       "VBox(children=(Image(value=b'\\x89PNG\\r\\n\\x1a\\n\\x00\\x00\\x00\\rIHDR\\x00\\x00\\x02\\x80\\x00\\x00\\x01\\xe0\\x08\\x02\\x00\\x…"
      ]
     },
     "execution_count": 127,
     "metadata": {},
     "output_type": "execute_result"
    }
   ],
   "source": [
    "im = Image.open(IMAGE_PATH)\n",
    "\n",
    "w_zoomed = widgets.Image(\n",
    "    layout=widgets.Layout(width=\"640px\"),\n",
    ")\n",
    "\n",
    "w_step = widgets.FloatSlider(\n",
    "    description=\"step\",\n",
    "    value=0.0,\n",
    "    min=steps.index[0],\n",
    "    max=steps.index[-1],\n",
    "    step=0.01,\n",
    "    layout=widgets.Layout(width=\"640px\"),\n",
    ")\n",
    "w_zoom = widgets.FloatSlider(\n",
    "    description=\"zoom\",\n",
    "    value=1.0,\n",
    "    min=steps.values[0],\n",
    "    max=steps.values[-1],\n",
    "    step=0.01,\n",
    "    layout=widgets.Layout(width=\"640px\"),\n",
    ")\n",
    "\n",
    "\n",
    "def set_step(step=0.0):\n",
    "    scale = STEP_FACTOR ** (step - steps.index[0])\n",
    "    size0 = np.array(im.size)\n",
    "    size1 = size0 / scale\n",
    "    corners = size0 / 2 + size1 / 2 * np.array([[-1], [1]])\n",
    "    zoomed = im.crop(corners.flatten().tolist()).resize(size0)\n",
    "    b = BytesIO()\n",
    "    zoomed.save(b, \"png\")\n",
    "    return b.getvalue()\n",
    "\n",
    "\n",
    "widgets.dlink(\n",
    "    (w_step, \"value\"),\n",
    "    (w_zoomed, \"value\"),\n",
    "    set_step,\n",
    ")\n",
    "\n",
    "widgets.link(\n",
    "    (w_step, \"value\"),\n",
    "    (w_zoom, \"value\"),\n",
    "    (lambda step: STEP_FACTOR**step, lambda zoom: m.log(zoom) / m.log(STEP_FACTOR)),\n",
    ")\n",
    "\n",
    "widgets.VBox([w_zoomed, w_zoom, w_step])"
   ]
  }
 ],
 "metadata": {
  "kernelspec": {
   "display_name": ".venv",
   "language": "python",
   "name": "python3"
  },
  "language_info": {
   "codemirror_mode": {
    "name": "ipython",
    "version": 3
   },
   "file_extension": ".py",
   "mimetype": "text/x-python",
   "name": "python",
   "nbconvert_exporter": "python",
   "pygments_lexer": "ipython3",
   "version": "3.10.12"
  }
 },
 "nbformat": 4,
 "nbformat_minor": 2
}
